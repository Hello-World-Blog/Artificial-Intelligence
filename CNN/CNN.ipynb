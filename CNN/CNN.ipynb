{
 "cells": [
  {
   "cell_type": "markdown",
   "metadata": {},
   "source": [
    "## Importing required libraries"
   ]
  },
  {
   "cell_type": "code",
   "execution_count": 1,
   "metadata": {},
   "outputs": [
    {
     "name": "stderr",
     "output_type": "stream",
     "text": [
      "Using TensorFlow backend.\n"
     ]
    }
   ],
   "source": [
    "import keras\n",
    "import numpy as np\n",
    "from keras.datasets import mnist\n",
    "from keras.models import Sequential\n",
    "from keras.layers import Conv2D,AveragePooling2D\n",
    "from keras.layers import Dense,Flatten\n",
    "from keras.losses import categorical_crossentropy"
   ]
  },
  {
   "cell_type": "markdown",
   "metadata": {},
   "source": [
    "### Load mnist data from Keras datasets"
   ]
  },
  {
   "cell_type": "code",
   "execution_count": 2,
   "metadata": {},
   "outputs": [],
   "source": [
    "(X_train,y_train),(X_test,y_test)=mnist.load_data()"
   ]
  },
  {
   "cell_type": "markdown",
   "metadata": {},
   "source": [
    "### Vectorizing the labels"
   ]
  },
  {
   "cell_type": "code",
   "execution_count": 3,
   "metadata": {},
   "outputs": [
    {
     "name": "stdout",
     "output_type": "stream",
     "text": [
      "5 => [0. 0. 0. 0. 0. 1. 0. 0. 0. 0.]\n"
     ]
    }
   ],
   "source": [
    "num_classes=len(np.unique(y_train))\n",
    "print(y_train[0],end=\" => \")\n",
    "y_train=keras.utils.to_categorical(y_train,10)\n",
    "y_test=keras.utils.to_categorical(y_test,10)\n",
    "print(y_train[0])"
   ]
  },
  {
   "cell_type": "markdown",
   "metadata": {},
   "source": [
    "### Reshaping the input to feed into neural network"
   ]
  },
  {
   "cell_type": "code",
   "execution_count": 4,
   "metadata": {},
   "outputs": [],
   "source": [
    "X_train=X_train.astype(np.float32)/255\n",
    "X_test=X_test.astype(np.float32)/255\n",
    "img_rows,img_cols=X_train.shape[1:]\n",
    "X_train=X_train.reshape(len(X_train),img_rows,img_cols,1)\n",
    "X_test=X_test.reshape(len(X_test),img_rows,img_cols,1)\n",
    "input_shape=(img_rows,img_cols,1)"
   ]
  },
  {
   "cell_type": "markdown",
   "metadata": {},
   "source": [
    "### Initializing Keras Sequential Model \n",
    "#### LeNet is one of the most earliest covolutional neural networks used to classify handwrited digits"
   ]
  },
  {
   "cell_type": "code",
   "execution_count": 5,
   "metadata": {},
   "outputs": [
    {
     "name": "stdout",
     "output_type": "stream",
     "text": [
      "(28, 28, 1)\n"
     ]
    }
   ],
   "source": [
    "lenet=Sequential()\n",
    "print(input_shape)"
   ]
  },
  {
   "cell_type": "code",
   "execution_count": 6,
   "metadata": {},
   "outputs": [],
   "source": [
    "lenet.add(Conv2D(6,kernel_size=(5,5),activation=\"tanh\",input_shape=input_shape,padding=\"same\",name=\"C1\"))"
   ]
  },
  {
   "cell_type": "code",
   "execution_count": 7,
   "metadata": {},
   "outputs": [
    {
     "name": "stdout",
     "output_type": "stream",
     "text": [
      "WARNING:tensorflow:From C:\\Users\\tarun\\Anaconda3\\lib\\site-packages\\keras\\backend\\tensorflow_backend.py:4074: The name tf.nn.avg_pool is deprecated. Please use tf.nn.avg_pool2d instead.\n",
      "\n"
     ]
    }
   ],
   "source": [
    "lenet.add(AveragePooling2D(pool_size=(2,2),strides=(1,1),padding=\"valid\"))\n",
    "lenet.add(Conv2D(16,kernel_size=(5,5),strides=(1,1),activation=\"tanh\",padding=\"valid\"))\n",
    "lenet.add(AveragePooling2D(pool_size=(2,2),strides=(1,1),padding=\"valid\"))"
   ]
  },
  {
   "cell_type": "code",
   "execution_count": 8,
   "metadata": {},
   "outputs": [],
   "source": [
    "lenet.add(Conv2D(120,kernel_size=(5,5),activation=\"tanh\",name=\"C5\"))\n",
    "lenet.add(Flatten())"
   ]
  },
  {
   "cell_type": "code",
   "execution_count": 9,
   "metadata": {},
   "outputs": [],
   "source": [
    "lenet.add(Dense(84,activation=\"tanh\",name=\"FC6\"))\n",
    "lenet.add(Dense(10,activation=\"softmax\",name=\"OUTPUT\"))"
   ]
  },
  {
   "cell_type": "code",
   "execution_count": 10,
   "metadata": {},
   "outputs": [
    {
     "name": "stdout",
     "output_type": "stream",
     "text": [
      "Model: \"sequential_1\"\n",
      "_________________________________________________________________\n",
      "Layer (type)                 Output Shape              Param #   \n",
      "=================================================================\n",
      "C1 (Conv2D)                  (None, 28, 28, 6)         156       \n",
      "_________________________________________________________________\n",
      "average_pooling2d_1 (Average (None, 27, 27, 6)         0         \n",
      "_________________________________________________________________\n",
      "conv2d_1 (Conv2D)            (None, 23, 23, 16)        2416      \n",
      "_________________________________________________________________\n",
      "average_pooling2d_2 (Average (None, 22, 22, 16)        0         \n",
      "_________________________________________________________________\n",
      "C5 (Conv2D)                  (None, 18, 18, 120)       48120     \n",
      "_________________________________________________________________\n",
      "flatten_1 (Flatten)          (None, 38880)             0         \n",
      "_________________________________________________________________\n",
      "FC6 (Dense)                  (None, 84)                3266004   \n",
      "_________________________________________________________________\n",
      "OUTPUT (Dense)               (None, 10)                850       \n",
      "=================================================================\n",
      "Total params: 3,317,546\n",
      "Trainable params: 3,317,546\n",
      "Non-trainable params: 0\n",
      "_________________________________________________________________\n"
     ]
    }
   ],
   "source": [
    "lenet.compile(loss=categorical_crossentropy,optimizer=\"SGD\",metrics=['accuracy'])\n",
    "lenet.summary()"
   ]
  },
  {
   "cell_type": "code",
   "execution_count": null,
   "metadata": {},
   "outputs": [
    {
     "name": "stdout",
     "output_type": "stream",
     "text": [
      "WARNING:tensorflow:From C:\\Users\\tarun\\Anaconda3\\lib\\site-packages\\keras\\backend\\tensorflow_backend.py:422: The name tf.global_variables is deprecated. Please use tf.compat.v1.global_variables instead.\n",
      "\n",
      "Train on 60000 samples, validate on 10000 samples\n",
      "Epoch 1/50\n",
      "60000/60000 [==============================] - 134s 2ms/step - loss: 0.3678 - accuracy: 0.8969 - val_loss: 0.2115 - val_accuracy: 0.9402\n",
      "Epoch 2/50\n",
      "60000/60000 [==============================] - 133s 2ms/step - loss: 0.1905 - accuracy: 0.9463 - val_loss: 0.1582 - val_accuracy: 0.9564\n",
      "Epoch 3/50\n",
      " 2688/60000 [>.............................] - ETA: 1:58 - loss: 0.1772 - accuracy: 0.9539"
     ]
    }
   ],
   "source": [
    "batch_size=64\n",
    "epochs=50\n",
    "history=lenet.fit(X_train,y_train,batch_size=batch_size,epochs=epochs,validation_data=(X_test,y_test))"
   ]
  },
  {
   "cell_type": "code",
   "execution_count": null,
   "metadata": {},
   "outputs": [],
   "source": [
    "# lenet.save(\"handwriting_recogniton.h5\")\n",
    "# lenet.save_weights(\"handwriting_weights.h5\")"
   ]
  },
  {
   "cell_type": "code",
   "execution_count": null,
   "metadata": {},
   "outputs": [],
   "source": [
    "model=keras.models.load_model(\"D:/TarunNanduri/TarunNanduri/deep-learning/handwriting_recogniton.h5\")"
   ]
  },
  {
   "cell_type": "code",
   "execution_count": null,
   "metadata": {},
   "outputs": [],
   "source": [
    "y_test=model.predict(X_test)"
   ]
  }
 ],
 "metadata": {
  "kernelspec": {
   "display_name": "Python 3",
   "language": "python",
   "name": "python3"
  },
  "language_info": {
   "codemirror_mode": {
    "name": "ipython",
    "version": 3
   },
   "file_extension": ".py",
   "mimetype": "text/x-python",
   "name": "python",
   "nbconvert_exporter": "python",
   "pygments_lexer": "ipython3",
   "version": "3.7.3"
  }
 },
 "nbformat": 4,
 "nbformat_minor": 4
}
